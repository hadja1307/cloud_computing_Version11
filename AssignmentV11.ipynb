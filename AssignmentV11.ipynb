{
 "cells": [
  {
   "cell_type": "markdown",
   "id": "cd03133e",
   "metadata": {},
   "source": [
    "# ###introduction"
   ]
  },
  {
   "cell_type": "markdown",
   "id": "cc79fdfc",
   "metadata": {},
   "source": [
    "These claims were that:\n",
    "1.\tViolent Crime is increasing\n",
    "2.\tThere are more firearms incidents per head in Birmingham than anywhere else in the UK\n",
    "3.\tCrimes involving firearms are closely associated with drugs offences\n"
   ]
  },
  {
   "cell_type": "markdown",
   "id": "df8bd2d2",
   "metadata": {},
   "source": [
    "\n",
    "To solve this problem, you will use publicly available data sets that have been prepared for you and placed online. These include (but are not limited to):-\n",
    "1.\tStreet Level Crime Data published by the UK Home Office, this dataset contains 19 million data rows giving a crime type, together with their location as a latitude and longitude.\n",
    "2.\tEnglish Indices of Deprivation Data: The English Indices of Deprivation 2010 data set contains the rankings of measures of deprivation within small area level across England. The 32000 localities are ranked from the least to most deprived, scored on seven different dimensions of deprivation.\n"
   ]
  },
  {
   "cell_type": "markdown",
   "id": "2b6b6b2d",
   "metadata": {},
   "source": [
    "Specifics\n",
    "1.\tProcess the given data efficiently using Apache Spark on a cloud Infrastructure as a Service (IaaS) platform. A sample Jupyter Notebook has been provided on Blackboard.\n",
    "2.\tFilter the dataset so that only relevant crimes are included.\n",
    "3.\tUsing appropriate techniques, determine whether Violent Crimes are increasing, decreasing, or are stable.\n",
    "4.\tDetermine whether there are more firearms incidents per head in Birmingham than anywhere else in the UK. Possession of firearms carries a mandatory prison sentence in the UK. Therefore, you may assume that a crime type of “Possession of weapons” whose outcome is “offender sent to prison” was a firearm incident.\n",
    "5.\tUsing appropriate techniques, determine whether firearms incidents are associated with drugs offences.\n",
    "6.\tSelect and prepare no more than four visualizations to support your analytic findings from (3).\n",
    "7.\tExplain the reasoning behind your code so that it is clear what each block is intended to achieve (i.e., appropriately comment the command line).\n",
    "8.\tAssess the three claims given and determine whether they are true, false, or cannot be determined.\n",
    "\n",
    "\n"
   ]
  },
  {
   "cell_type": "code",
   "execution_count": null,
   "id": "a168816c",
   "metadata": {},
   "outputs": [],
   "source": []
  },
  {
   "cell_type": "markdown",
   "id": "7b2f9fbb",
   "metadata": {},
   "source": [
    "#### Importing libraries and dataset"
   ]
  },
  {
   "cell_type": "markdown",
   "id": "689f8c3b",
   "metadata": {},
   "source": [
    "if you bare importing data from blob storage then you must transform the data into RDD\n",
    "if you are not importing data from blob storage, use dataframe to convert date to use it. - will probably do that"
   ]
  },
  {
   "cell_type": "code",
   "execution_count": 1,
   "id": "2973284e",
   "metadata": {},
   "outputs": [
    {
     "data": {
      "text/html": [
       "\n",
       "        <div>\n",
       "            <p><b>SparkContext</b></p>\n",
       "\n",
       "            <p><a href=\"http://081df8a00d10:4040\">Spark UI</a></p>\n",
       "\n",
       "            <dl>\n",
       "              <dt>Version</dt>\n",
       "                <dd><code>v3.1.2</code></dd>\n",
       "              <dt>Master</dt>\n",
       "                <dd><code>local[*]</code></dd>\n",
       "              <dt>AppName</dt>\n",
       "                <dd><code>Python and Spark SQL</code></dd>\n",
       "            </dl>\n",
       "        </div>\n",
       "        "
      ],
      "text/plain": [
       "<SparkContext master=local[*] appName=Python and Spark SQL>"
      ]
     },
     "execution_count": 1,
     "metadata": {},
     "output_type": "execute_result"
    }
   ],
   "source": [
    "from pyspark.sql import SparkSession\n",
    "import matplotlib.pyplot as plt\n",
    "import pandas as pd\n",
    "\n",
    "spark = SparkSession.builder.appName(\"Python and Spark SQL\").config(\"spark.some.config.option\", \"some-value\").getOrCreate()\n",
    "#Check we have a spark context: Should show the spark version and app name\n",
    "sc = spark.sparkContext\n",
    "sc #Check we have a spark context: Should show the spark version and app name\n",
    "\n"
   ]
  },
  {
   "cell_type": "code",
   "execution_count": 2,
   "id": "e55b475c",
   "metadata": {},
   "outputs": [
    {
     "name": "stdout",
     "output_type": "stream",
     "text": [
      "total 136068\n",
      "-rw-r--r-- 1 notebookuser notebookuser    115689 Dec  5 21:18  AssignmentV10.ipynb\n",
      "-rw-r--r-- 1 notebookuser notebookuser    144304 Dec  5 22:20  AssignmentV11.ipynb\n",
      "-rw-r--r-- 1 notebookuser notebookuser   2505684 Dec  5 18:28  LSOA_pop_v2.csv\n",
      "-rw-r--r-- 1 notebookuser notebookuser 136526474 Dec  5 18:28  Sample_1pc_Data.csv\n",
      "-rw-r--r-- 1 notebookuser notebookuser     25986 Dec  5 18:29 'w18016571 (1).ipynb'\n",
      "/home/notebookuser\n"
     ]
    }
   ],
   "source": [
    "#checking files are in path\n",
    "!ls -l\n",
    "!pwd"
   ]
  },
  {
   "cell_type": "code",
   "execution_count": 3,
   "id": "3fb1a90f",
   "metadata": {},
   "outputs": [
    {
     "name": "stdout",
     "output_type": "stream",
     "text": [
      "root\n",
      " |-- Crime ID: string (nullable = true)\n",
      " |-- Month: string (nullable = true)\n",
      " |-- Reported by: string (nullable = true)\n",
      " |-- Falls within: string (nullable = true)\n",
      " |-- Longitude: double (nullable = true)\n",
      " |-- Latitude: double (nullable = true)\n",
      " |-- Location: string (nullable = true)\n",
      " |-- LSOA code: string (nullable = true)\n",
      " |-- LSOA name: string (nullable = true)\n",
      " |-- Crime type: string (nullable = true)\n",
      " |-- Last outcome category: string (nullable = true)\n",
      " |-- Context: string (nullable = true)\n",
      "\n"
     ]
    }
   ],
   "source": [
    "#shows dataframe of the csv file\n",
    "df= spark.read.csv(\"Sample_1pc_Data.csv\", header=True, inferSchema =True)\n",
    "#inferschema by default is false but when assigned to True, it automatically infers columns types based on the data\n",
    "df.printSchema()"
   ]
  },
  {
   "cell_type": "code",
   "execution_count": 4,
   "id": "b4e4db64",
   "metadata": {},
   "outputs": [
    {
     "name": "stdout",
     "output_type": "stream",
     "text": [
      "+--------+-------+--------------------+--------------------+---------+---------+--------------------+---------+--------------------+--------------------+---------------------+-------+\n",
      "|Crime ID|  Month|         Reported by|        Falls within|Longitude| Latitude|            Location|LSOA code|           LSOA name|          Crime type|Last outcome category|Context|\n",
      "+--------+-------+--------------------+--------------------+---------+---------+--------------------+---------+--------------------+--------------------+---------------------+-------+\n",
      "|    null|2010-12|Avon and Somerset...|Avon and Somerset...|-2.345526|51.398948|On or near Daffor...|E01014409|Bath and North Ea...|Anti-social behav...|                 null|   null|\n",
      "|    null|2010-12|Avon and Somerset...|Avon and Somerset...|-2.398165|51.398925|On or near Symes ...|E01014477|Bath and North Ea...|         Other crime|                 null|   null|\n",
      "|    null|2010-12|Avon and Somerset...|Avon and Somerset...|-2.349528|51.393991|On or near Upper ...|E01014467|Bath and North Ea...|Anti-social behav...|                 null|   null|\n",
      "|    null|2010-12|Avon and Somerset...|Avon and Somerset...|-2.361416|51.381448|On or near Westga...|E01014370|Bath and North Ea...|Anti-social behav...|                 null|   null|\n",
      "|    null|2010-12|Avon and Somerset...|Avon and Somerset...|-2.361055|51.379453|On or near St. Ja...|E01014370|Bath and North Ea...|Anti-social behav...|                 null|   null|\n",
      "|    null|2010-12|Avon and Somerset...|Avon and Somerset...|-2.357056|51.378871|On or near Manver...|E01014371|Bath and North Ea...|Anti-social behav...|                 null|   null|\n",
      "|    null|2010-12|Avon and Somerset...|Avon and Somerset...|-2.362118|51.384862|On or near George...|E01014372|Bath and North Ea...|Anti-social behav...|                 null|   null|\n",
      "|    null|2010-12|Avon and Somerset...|Avon and Somerset...|-2.362041|51.385977|On or near Alfred...|E01014372|Bath and North Ea...|       Violent crime|                 null|   null|\n",
      "|    null|2010-12|Avon and Somerset...|Avon and Somerset...| -2.35138|51.369411|On or near Perrymead|E01014482|Bath and North Ea...|         Other crime|                 null|   null|\n",
      "|    null|2010-12|Avon and Somerset...|Avon and Somerset...|-2.371289|51.374538|On or near Oldfie...|E01014436|Bath and North Ea...|Anti-social behav...|                 null|   null|\n",
      "|    null|2010-12|Avon and Somerset...|Avon and Somerset...|-2.545595|51.320813|On or near Paulmo...|E01014419|Bath and North Ea...|            Burglary|                 null|   null|\n",
      "|    null|2010-12|Avon and Somerset...|Avon and Somerset...|-2.480534|51.286704|On or near High S...|E01014423|Bath and North Ea...|         Other crime|                 null|   null|\n",
      "|    null|2010-12|Avon and Somerset...|Avon and Somerset...|-2.495521|51.277551|On or near Rivers...|E01014424|Bath and North Ea...|Anti-social behav...|                 null|   null|\n",
      "|    null|2010-12|Avon and Somerset...|Avon and Somerset...|-2.627277|51.512017|On or near Dowdes...|E01014602|        Bristol 001B|Anti-social behav...|                 null|   null|\n",
      "|    null|2010-12|Avon and Somerset...|Avon and Somerset...|-2.607303|51.512959|On or near Okebou...|E01014603|        Bristol 001C|       Violent crime|                 null|   null|\n",
      "|    null|2010-12|Avon and Somerset...|Avon and Somerset...|-2.598246|51.501478|On or near Charfi...|E01014688|        Bristol 002A|Anti-social behav...|                 null|   null|\n",
      "|    null|2010-12|Avon and Somerset...|Avon and Somerset...|-2.608635|51.502647|On or near Marbec...|E01014691|        Bristol 002D|Anti-social behav...|                 null|   null|\n",
      "|    null|2010-12|Avon and Somerset...|Avon and Somerset...|-2.575768| 51.49776|On or near Auden ...|E01014630|        Bristol 005A|         Other crime|                 null|   null|\n",
      "|    null|2010-12|Avon and Somerset...|Avon and Somerset...|-2.602062|51.495866|On or near Tuffle...|E01014720|        Bristol 006C|Anti-social behav...|                 null|   null|\n",
      "|    null|2010-12|Avon and Somerset...|Avon and Somerset...|-2.676505| 51.48886|On or near Pembro...|E01014495|        Bristol 008D|         Other crime|                 null|   null|\n",
      "+--------+-------+--------------------+--------------------+---------+---------+--------------------+---------+--------------------+--------------------+---------------------+-------+\n",
      "only showing top 20 rows\n",
      "\n"
     ]
    }
   ],
   "source": [
    "df.show() #shows dataframe"
   ]
  },
  {
   "cell_type": "markdown",
   "id": "985bd9c8",
   "metadata": {},
   "source": [
    "https://spark.apache.org/docs/latest/api/python/reference/pyspark.sql/api/pyspark.sql.DataFrame.fillna.html\n",
    "\n",
    "https://spark.apache.org/docs/latest/api/python/reference/pyspark.sql/api/pyspark.sql.DataFrame.filter.html"
   ]
  },
  {
   "cell_type": "code",
   "execution_count": 5,
   "id": "c98fba20",
   "metadata": {},
   "outputs": [],
   "source": [
    "#schema creation\n",
    "from pyspark.sql.types import * \n",
    "\n",
    "#defining the schema types \n",
    "schema = StructType(\n",
    "[StructField(\"CrimeID\", StringType(), False),\n",
    " StructField(\"Date\", StringType(), False),\n",
    " StructField(\"ReportedBy\", StringType(), False),\n",
    " StructField(\"FallsWithin\", StringType(), False),\n",
    " StructField(\"Longitude\", StringType(), False),\n",
    " StructField(\"Latitude\", IntegerType(), False),\n",
    " StructField(\"Location\", StringType(), False),\n",
    " StructField(\"LSOACode\", StringType(), False),\n",
    " StructField(\"LSOAName\", StringType(), False),\n",
    " StructField(\"CrimeType\", StringType(), False),\n",
    " StructField(\"LastOutcomeCategory\", StringType(), False),\n",
    " StructField(\"context\", StringType(), False),\n",
    " \n",
    "])"
   ]
  },
  {
   "cell_type": "code",
   "execution_count": 6,
   "id": "b823f06a",
   "metadata": {},
   "outputs": [
    {
     "data": {
      "text/plain": [
       "<bound method RDD.count of Sample_1pc_Data.csv MapPartitionsRDD[15] at textFile at NativeMethodAccessorImpl.java:0>"
      ]
     },
     "execution_count": 6,
     "metadata": {},
     "output_type": "execute_result"
    }
   ],
   "source": [
    "from pyspark.sql import SparkSession\n",
    "import matplotlib.pyplot as plt\n",
    "import pandas as pd\n",
    "\n",
    "datasource = \"Sample_1pc_Data.csv\"\n",
    "data = sc.textFile(datasource)\n",
    "data.count"
   ]
  },
  {
   "cell_type": "code",
   "execution_count": 7,
   "id": "ccac3221",
   "metadata": {},
   "outputs": [],
   "source": [
    "df = spark.read.load(datasource, format=\"csv\", schema=schema, header=\"true\", sep=\",\", inferSchema =True)\n",
    "\n",
    "#df should be 648521 after duplicates have been removed (with header as true - so that the first line is used as a header)\n",
    "df = df.dropDuplicates() #removes duplicates\n",
    "#df.count() #shows output of 648521\n"
   ]
  },
  {
   "cell_type": "code",
   "execution_count": 8,
   "id": "16583755",
   "metadata": {},
   "outputs": [],
   "source": [
    "#filter dataframe to show violent crimes and violence sexual offences\n",
    "#df.filter(df[\"CrimeType\"] == \"Violent crime\") or (df[\"CrimeType\"] == \"Violence and sexual offences\")\n",
    "#df.show()\n",
    "#df.count()\n",
    "\n",
    "          \n",
    "#df_new = df.withColumn('Location',sf.when((df.cd == 'A') & (df.id isin(['AAA','BBB'])),'New_Loc').otherwise(df.Location))"
   ]
  },
  {
   "cell_type": "markdown",
   "id": "16a88d85",
   "metadata": {},
   "source": [
    "## # 3.\tUsing appropriate techniques, determine whether Violent Crimes are increasing, decreasing, or are stable.\n"
   ]
  },
  {
   "cell_type": "code",
   "execution_count": 9,
   "id": "a22806ec",
   "metadata": {},
   "outputs": [],
   "source": [
    "# Task 1.\tStart Jupyter and Create a new Notebook\n",
    "%matplotlib inline\n",
    "import numpy as np\n",
    "import pandas as pd\n",
    "\n",
    "import seaborn as sns; sns.set_theme()\n",
    "import matplotlib.pyplot as plt\n",
    "from pyspark import SparkFiles\n",
    "from pyspark.sql import SparkSession\n",
    "from pyspark.sql.types import *\n",
    "from pyspark.sql.functions import count, avg, sum, col, to_date\n",
    "\n",
    "import statsmodels.api as sm\n",
    "from statsmodels.tsa.stattools import adfuller"
   ]
  },
  {
   "cell_type": "code",
   "execution_count": 10,
   "id": "361e5d2e",
   "metadata": {},
   "outputs": [],
   "source": [
    "# grouping columns and using agg\n",
    "count_df = df.select(\"Date\",\"CrimeType\") \\\n",
    "    .where((df.CrimeType== 'Violent crime') | (df.CrimeType == 'Violence and sexual offences'))\\\n",
    "    .groupBy('Date').count().withColumnRenamed( \"count\", \"CrimeNo\")\\\n",
    "    .orderBy('Date', 'CrimeNo', ascending = False)\n",
    "    "
   ]
  },
  {
   "cell_type": "code",
   "execution_count": 28,
   "id": "1d1b0e49",
   "metadata": {},
   "outputs": [
    {
     "name": "stdout",
     "output_type": "stream",
     "text": [
      "+-------+-------+\n",
      "|   Date|CrimeNo|\n",
      "+-------+-------+\n",
      "|2021-05|   1722|\n",
      "|2021-04|   1540|\n",
      "|2021-03|   1669|\n",
      "|2021-02|   1319|\n",
      "|2021-01|   1434|\n",
      "|2020-12|   1520|\n",
      "|2020-11|   1503|\n",
      "|2020-10|   1649|\n",
      "|2020-09|   1681|\n",
      "|2020-08|   1757|\n",
      "|2020-07|   1782|\n",
      "|2020-06|   1581|\n",
      "|2020-05|   1434|\n",
      "|2020-04|   1293|\n",
      "|2020-03|   1441|\n",
      "|2020-02|   1538|\n",
      "|2020-01|   1625|\n",
      "|2019-12|   1524|\n",
      "|2019-11|   1456|\n",
      "|2019-10|   1548|\n",
      "+-------+-------+\n",
      "only showing top 20 rows\n",
      "\n"
     ]
    },
    {
     "data": {
      "text/plain": [
       "126"
      ]
     },
     "execution_count": 28,
     "metadata": {},
     "output_type": "execute_result"
    }
   ],
   "source": [
    "count_df.show() # shows the date and crime number"
   ]
  },
  {
   "cell_type": "code",
   "execution_count": 29,
   "id": "3b200540",
   "metadata": {},
   "outputs": [
    {
     "data": {
      "text/plain": [
       "126"
      ]
     },
     "execution_count": 29,
     "metadata": {},
     "output_type": "execute_result"
    }
   ],
   "source": [
    "count_df.count()"
   ]
  },
  {
   "cell_type": "markdown",
   "id": "0ee77dd6",
   "metadata": {},
   "source": [
    "look at time series workshop\n",
    "convert month into date or index, use that to determine if violent crimes are increase, decreasing or stable.\n"
   ]
  },
  {
   "cell_type": "code",
   "execution_count": 12,
   "id": "ab23499f",
   "metadata": {},
   "outputs": [],
   "source": [
    "pdf = count_df.toPandas()"
   ]
  },
  {
   "cell_type": "code",
   "execution_count": 13,
   "id": "52242e7d",
   "metadata": {},
   "outputs": [],
   "source": [
    "# Task 4.\tConvert the Pandas Dataframe to be TimeIndexed\n",
    "pdf.Date = pdf.Date.astype('datetime64[ns]')\n",
    "pdf2 = pdf.set_index(pd.to_datetime(pdf.Date))\n",
    "#the data type of the datetime column is a datetime64[ns] object. \n",
    "#The [ns] means the nano second-based time format that specifies the precision of the DateTime object.\n",
    "\n",
    "\n"
   ]
  },
  {
   "cell_type": "markdown",
   "id": "b3e80fd2",
   "metadata": {},
   "source": [
    "# ##visualisation\n"
   ]
  },
  {
   "cell_type": "code",
   "execution_count": 14,
   "id": "f9d97ead",
   "metadata": {},
   "outputs": [
    {
     "data": {
      "text/plain": [
       "DatetimeIndex(['2021-05-01', '2021-04-01', '2021-03-01', '2021-02-01',\n",
       "               '2021-01-01', '2020-12-01', '2020-11-01', '2020-10-01',\n",
       "               '2020-09-01', '2020-08-01',\n",
       "               ...\n",
       "               '2011-09-01', '2011-08-01', '2011-07-01', '2011-06-01',\n",
       "               '2011-05-01', '2011-04-01', '2011-03-01', '2011-02-01',\n",
       "               '2011-01-01', '2010-12-01'],\n",
       "              dtype='datetime64[ns]', name='Date', length=126, freq=None)"
      ]
     },
     "execution_count": 14,
     "metadata": {},
     "output_type": "execute_result"
    }
   ],
   "source": [
    "pdf2.index #view index of pdf2"
   ]
  },
  {
   "cell_type": "code",
   "execution_count": 15,
   "id": "9f7777e8",
   "metadata": {},
   "outputs": [
    {
     "data": {
      "text/html": [
       "<div>\n",
       "<style scoped>\n",
       "    .dataframe tbody tr th:only-of-type {\n",
       "        vertical-align: middle;\n",
       "    }\n",
       "\n",
       "    .dataframe tbody tr th {\n",
       "        vertical-align: top;\n",
       "    }\n",
       "\n",
       "    .dataframe thead th {\n",
       "        text-align: right;\n",
       "    }\n",
       "</style>\n",
       "<table border=\"1\" class=\"dataframe\">\n",
       "  <thead>\n",
       "    <tr style=\"text-align: right;\">\n",
       "      <th></th>\n",
       "      <th>Date</th>\n",
       "      <th>CrimeNo</th>\n",
       "    </tr>\n",
       "  </thead>\n",
       "  <tbody>\n",
       "    <tr>\n",
       "      <th>0</th>\n",
       "      <td>2021-05-01</td>\n",
       "      <td>1722</td>\n",
       "    </tr>\n",
       "    <tr>\n",
       "      <th>1</th>\n",
       "      <td>2021-04-01</td>\n",
       "      <td>1540</td>\n",
       "    </tr>\n",
       "    <tr>\n",
       "      <th>2</th>\n",
       "      <td>2021-03-01</td>\n",
       "      <td>1669</td>\n",
       "    </tr>\n",
       "    <tr>\n",
       "      <th>3</th>\n",
       "      <td>2021-02-01</td>\n",
       "      <td>1319</td>\n",
       "    </tr>\n",
       "    <tr>\n",
       "      <th>4</th>\n",
       "      <td>2021-01-01</td>\n",
       "      <td>1434</td>\n",
       "    </tr>\n",
       "    <tr>\n",
       "      <th>...</th>\n",
       "      <td>...</td>\n",
       "      <td>...</td>\n",
       "    </tr>\n",
       "    <tr>\n",
       "      <th>121</th>\n",
       "      <td>2011-04-01</td>\n",
       "      <td>644</td>\n",
       "    </tr>\n",
       "    <tr>\n",
       "      <th>122</th>\n",
       "      <td>2011-03-01</td>\n",
       "      <td>606</td>\n",
       "    </tr>\n",
       "    <tr>\n",
       "      <th>123</th>\n",
       "      <td>2011-02-01</td>\n",
       "      <td>573</td>\n",
       "    </tr>\n",
       "    <tr>\n",
       "      <th>124</th>\n",
       "      <td>2011-01-01</td>\n",
       "      <td>578</td>\n",
       "    </tr>\n",
       "    <tr>\n",
       "      <th>125</th>\n",
       "      <td>2010-12-01</td>\n",
       "      <td>563</td>\n",
       "    </tr>\n",
       "  </tbody>\n",
       "</table>\n",
       "<p>126 rows × 2 columns</p>\n",
       "</div>"
      ],
      "text/plain": [
       "          Date  CrimeNo\n",
       "0   2021-05-01     1722\n",
       "1   2021-04-01     1540\n",
       "2   2021-03-01     1669\n",
       "3   2021-02-01     1319\n",
       "4   2021-01-01     1434\n",
       "..         ...      ...\n",
       "121 2011-04-01      644\n",
       "122 2011-03-01      606\n",
       "123 2011-02-01      573\n",
       "124 2011-01-01      578\n",
       "125 2010-12-01      563\n",
       "\n",
       "[126 rows x 2 columns]"
      ]
     },
     "execution_count": 15,
     "metadata": {},
     "output_type": "execute_result"
    }
   ],
   "source": [
    "pdf"
   ]
  },
  {
   "cell_type": "code",
   "execution_count": 16,
   "id": "9e94af01",
   "metadata": {},
   "outputs": [],
   "source": [
    "pdf.Date = pdf.Date.astype('datetime64[ns]')\n",
    "pdf2 = pdf.set_index(pd.to_datetime(pdf.Date))"
   ]
  },
  {
   "cell_type": "code",
   "execution_count": 17,
   "id": "c9537e9e",
   "metadata": {},
   "outputs": [
    {
     "data": {
      "text/plain": [
       "DatetimeIndex(['2021-05-01', '2021-04-01', '2021-03-01', '2021-02-01',\n",
       "               '2021-01-01', '2020-12-01', '2020-11-01', '2020-10-01',\n",
       "               '2020-09-01', '2020-08-01',\n",
       "               ...\n",
       "               '2011-09-01', '2011-08-01', '2011-07-01', '2011-06-01',\n",
       "               '2011-05-01', '2011-04-01', '2011-03-01', '2011-02-01',\n",
       "               '2011-01-01', '2010-12-01'],\n",
       "              dtype='datetime64[ns]', name='Date', length=126, freq=None)"
      ]
     },
     "execution_count": 17,
     "metadata": {},
     "output_type": "execute_result"
    }
   ],
   "source": [
    "pdf2.index"
   ]
  },
  {
   "cell_type": "code",
   "execution_count": 18,
   "id": "770f3d05",
   "metadata": {},
   "outputs": [
    {
     "data": {
      "image/png": "[encoded data removed]",
      "text/plain": [
       "<Figure size 432x288 with 1 Axes>"
      ]
     },
     "metadata": {},
     "output_type": "display_data"
    }
   ],
   "source": [
    "#TESTING TO SEE COUNT AS NUMBER OF VIOLENT CRIME TYPE\n",
    "# Task 5.\tAn initial Lineplot\n",
    "plt.figsize = (40, 40)\n",
    "pdf2.plot(y='CrimeNo', x='Date', marker='.', linestyle='-', linewidth=0.5,\\\n",
    "         subplots=False,\n",
    "             label='Date Timeline',\n",
    "             title='Date Vs Violent Crime Number')\n",
    "plt.ylabel('Crime Number')\n",
    "plt.show()\n",
    "\n"
   ]
  },
  {
   "cell_type": "markdown",
   "id": "a32bd07b",
   "metadata": {},
   "source": [
    "Findings shows results of violent Crime  and  Violence and sexual offences\n",
    "from 2011 to 2013 crimes are relatively low, from 2014 violent crimes starts to increase until 2019. From 2019 to 2021, violent crimes are continuously high bearly 1800.\n",
    "\n"
   ]
  },
  {
   "cell_type": "code",
   "execution_count": 19,
   "id": "e412bf05",
   "metadata": {},
   "outputs": [],
   "source": [
    "pdf2.sort_index(inplace = True) #shows the right order of the index to be true, else decomposition will not work"
   ]
  },
  {
   "cell_type": "code",
   "execution_count": 20,
   "id": "96e6fe8e",
   "metadata": {},
   "outputs": [
    {
     "data": {
      "image/png": "[encoded data removed]",
      "text/plain": [
       "<Figure size 1008x504 with 4 Axes>"
      ]
     },
     "metadata": {},
     "output_type": "display_data"
    }
   ],
   "source": [
    "# Task 6.\tTime Series Decomposition'\n",
    "import statsmodels as sm\n",
    "import statsmodels.api as sm\n",
    "\n",
    "decomposition = sm.tsa.seasonal_decompose(pdf2['CrimeNo'], model='additive',extrapolate_trend='freq')\n",
    "fig = decomposition.plot()\n",
    "fig.set_size_inches(14,7)\n",
    "plt.show() #will show seasonal, residual and trend of time series"
   ]
  },
  {
   "cell_type": "markdown",
   "id": "4efbf8c8",
   "metadata": {},
   "source": [
    "### Findings on why crimes results are different"
   ]
  },
  {
   "cell_type": "markdown",
   "id": "9797ba0f",
   "metadata": {},
   "source": [
    "Time Series decomposition is a way to separate time series into different parts such as trend, seasonal and residual which are all components of Time series. Additive decomposition contains the trend, seasonal and residual components[2]\n",
    "\n",
    "\n",
    "Seasonality: describes periodi signal for the time series\n",
    "Trend: describes if the time series is increasing, decreasing or stable overtime. [1]\n",
    "\n",
    "From the decomposition using time series, we can see the increase of crimes in a decade from 2011 to 2021., crimes are low in 2011 but are increasing as the years increases.\n",
    "\n",
    "The data  for Residual shows crimes from 2011 to 2016m crimes are relatively low, however from 2017 to 2021, we see crimes increasing quite rapidly.\n",
    "\n",
    "\n",
    "The data for Seasonal shows that violent crimes are low at the beginning of the year but increases spikes up in the middle of the year, and later on gradually decreases until it becomes  fairly low just before the new year.\n",
    "\n",
    "The data for the Trend on violent crimes, in 2013 the crimes.From 2014 crimes gradually increases each year, in 2021 we see crimes rapidly increasing above 1500. \n",
    "\n",
    "Please note violent crimes includes: Violence and sexual offences and Violent crimes.\n",
    "in 2013............. violent crime...........................................\n",
    "\n"
   ]
  },
  {
   "cell_type": "markdown",
   "id": "6d7ca108",
   "metadata": {},
   "source": [
    "### 4. Determine whether there are more firearms incidents per head in Birmingham than anywhere else in the UK. Possession of firearms carries a mandatory prison sentence in the UK. Therefore, you may assume that a crime type of “Possession of weapons” whose outcome is “offender sent to prison” was a firearm incident."
   ]
  },
  {
   "cell_type": "markdown",
   "id": "50248d18",
   "metadata": {},
   "source": [
    "Crime Type of: \"Possession of Weapons\" \n",
    "Whose Outcome == \"Offender sent to prison\"\n",
    "---> Firearm Incident\n"
   ]
  },
  {
   "cell_type": "code",
   "execution_count": 21,
   "id": "fc873a26",
   "metadata": {},
   "outputs": [],
   "source": [
    "# grouping columns and using agg for possession of weapons whose outcome was 'offender sent to prison' was a firearm incident\n",
    "count_two_df = df.select(\"CrimeType\",\"LastOutcomeCategory\") \\\n",
    "    .where(df.CrimeType== 'Possession of weapons')\\\n",
    "    .groupBy('CrimeType').count().withColumnRenamed( \"count\", \"Number_of_Possession_of_weapons\")\n"
   ]
  },
  {
   "cell_type": "code",
   "execution_count": 22,
   "id": "ec812c15",
   "metadata": {},
   "outputs": [
    {
     "name": "stdout",
     "output_type": "stream",
     "text": [
      "+--------------------+-------------------------------+\n",
      "|           CrimeType|Number_of_Possession_of_weapons|\n",
      "+--------------------+-------------------------------+\n",
      "|Possession of wea...|                           2753|\n",
      "+--------------------+-------------------------------+\n",
      "\n"
     ]
    }
   ],
   "source": [
    "count_two_df.show() #shows a total 2753 of crime type which is possesison of weapons "
   ]
  },
  {
   "cell_type": "code",
   "execution_count": 23,
   "id": "81825ec8",
   "metadata": {},
   "outputs": [
    {
     "name": "stdout",
     "output_type": "stream",
     "text": [
      "root\n",
      " |-- date: integer (nullable = true)\n",
      " |-- geography: string (nullable = true)\n",
      " |-- geography code: string (nullable = true)\n",
      " |-- Rural Urban: string (nullable = true)\n",
      " |-- Variable: All usual residents; measures: Value: integer (nullable = true)\n",
      " |-- Variable: Males; measures: Value: integer (nullable = true)\n",
      " |-- Variable: Females; measures: Value: integer (nullable = true)\n",
      " |-- Variable: Lives in a household; measures: Value: integer (nullable = true)\n",
      " |-- Variable: Lives in a communal establishment; measures: Value: integer (nullable = true)\n",
      " |-- Variable: Schoolchild or full-time student aged 4 and over at their non term-time address; measures: Value: integer (nullable = true)\n",
      " |-- Variable: Area (Hectares); measures: Value: double (nullable = true)\n",
      " |-- Variable: Density (number of persons per hectare); measures: Value: double (nullable = true)\n",
      "\n"
     ]
    }
   ],
   "source": [
    "#shows dataframe of the csv file\n",
    "df2= spark.read.csv(\"LSOA_pop_v2.csv\", header=True, inferSchema =True)\n",
    "#inferschema by default is false but when assigned to True, it automatically infers columns types based on the data\n",
    "df2.printSchema()"
   ]
  },
  {
   "cell_type": "code",
   "execution_count": 24,
   "id": "124792e6",
   "metadata": {},
   "outputs": [
    {
     "data": {
      "text/plain": [
       "34753"
      ]
     },
     "execution_count": 24,
     "metadata": {},
     "output_type": "execute_result"
    }
   ],
   "source": [
    "df2.count()"
   ]
  },
  {
   "cell_type": "code",
   "execution_count": 25,
   "id": "3d693beb",
   "metadata": {},
   "outputs": [],
   "source": [
    "#schema creation FOR lsoa_Pop_v2 dataset\n",
    "from pyspark.sql.types import * \n",
    "\n",
    "#defining the schema types \n",
    "schema = StructType(\n",
    "[StructField(\"date\", StringType(), False),\n",
    " StructField(\"Geography\", StringType(), False),\n",
    " StructField(\"GeographyCode\", StringType(), False),\n",
    " StructField(\"RuralUrban\", StringType(), False),\n",
    " StructField(\"AllUsualResidents;\", StringType(), False),\n",
    " StructField(\"MalesMeasuresValue\", IntegerType(), False),\n",
    " StructField(\"FemalesMeasuresValue\", StringType(), False),\n",
    " StructField(\"LivesInAHousehold\", StringType(), False),\n",
    " StructField(\"LivesInACommunal\", StringType(), False),\n",
    " StructField(\"SchoolchildOrFullT\", StringType(), False),\n",
    " StructField(\"AreaMeasure\", StringType(), False),\n",
    " StructField(\"Density\", StringType(), False),\n",
    " \n",
    "])"
   ]
  },
  {
   "cell_type": "code",
   "execution_count": 26,
   "id": "362da88d",
   "metadata": {},
   "outputs": [
    {
     "data": {
      "text/plain": [
       "StructType(List(StructField(date,StringType,false),StructField(Geography,StringType,false),StructField(GeographyCode,StringType,false),StructField(RuralUrban,StringType,false),StructField(AllUsualResidents;,StringType,false),StructField(MalesMeasuresValue,IntegerType,false),StructField(FemalesMeasuresValue,StringType,false),StructField(LivesInAHousehold,StringType,false),StructField(LivesInACommunal,StringType,false),StructField(SchoolchildOrFullT,StringType,false),StructField(AreaMeasure,StringType,false),StructField(Density,StringType,false)))"
      ]
     },
     "execution_count": 26,
     "metadata": {},
     "output_type": "execute_result"
    }
   ],
   "source": [
    "schema"
   ]
  },
  {
   "cell_type": "code",
   "execution_count": 27,
   "id": "5b696539",
   "metadata": {},
   "outputs": [
    {
     "ename": "TypeError",
     "evalue": "Can only merge Series or DataFrame objects, a <class 'pyspark.sql.dataframe.DataFrame'> was passed",
     "output_type": "error",
     "traceback": [
      "\u001b[0;31m---------------------------------------------------------------------------\u001b[0m",
      "\u001b[0;31mTypeError\u001b[0m                                 Traceback (most recent call last)",
      "\u001b[0;32m<ipython-input-27-7d48d7310691>\u001b[0m in \u001b[0;36m<module>\u001b[0;34m\u001b[0m\n\u001b[0;32m----> 1\u001b[0;31m \u001b[0mpd\u001b[0m\u001b[0;34m.\u001b[0m\u001b[0mmerge\u001b[0m\u001b[0;34m(\u001b[0m\u001b[0mdf\u001b[0m\u001b[0;34m,\u001b[0m \u001b[0mdf2\u001b[0m\u001b[0;34m,\u001b[0m \u001b[0mon\u001b[0m \u001b[0;34m=\u001b[0m \u001b[0;34m\"LSOAName\"\u001b[0m\u001b[0;34m,\u001b[0m \u001b[0mhow\u001b[0m \u001b[0;34m=\u001b[0m \u001b[0;34m\"inner\"\u001b[0m\u001b[0;34m)\u001b[0m\u001b[0;34m\u001b[0m\u001b[0;34m\u001b[0m\u001b[0m\n\u001b[0m",
      "\u001b[0;32m/opt/conda/lib/python3.9/site-packages/pandas/core/reshape/merge.py\u001b[0m in \u001b[0;36mmerge\u001b[0;34m(left, right, how, on, left_on, right_on, left_index, right_index, sort, suffixes, copy, indicator, validate)\u001b[0m\n\u001b[1;32m    105\u001b[0m     \u001b[0mvalidate\u001b[0m\u001b[0;34m:\u001b[0m \u001b[0mstr\u001b[0m \u001b[0;34m|\u001b[0m \u001b[0;32mNone\u001b[0m \u001b[0;34m=\u001b[0m \u001b[0;32mNone\u001b[0m\u001b[0;34m,\u001b[0m\u001b[0;34m\u001b[0m\u001b[0;34m\u001b[0m\u001b[0m\n\u001b[1;32m    106\u001b[0m ) -> DataFrame:\n\u001b[0;32m--> 107\u001b[0;31m     op = _MergeOperation(\n\u001b[0m\u001b[1;32m    108\u001b[0m         \u001b[0mleft\u001b[0m\u001b[0;34m,\u001b[0m\u001b[0;34m\u001b[0m\u001b[0;34m\u001b[0m\u001b[0m\n\u001b[1;32m    109\u001b[0m         \u001b[0mright\u001b[0m\u001b[0;34m,\u001b[0m\u001b[0;34m\u001b[0m\u001b[0;34m\u001b[0m\u001b[0m\n",
      "\u001b[0;32m/opt/conda/lib/python3.9/site-packages/pandas/core/reshape/merge.py\u001b[0m in \u001b[0;36m__init__\u001b[0;34m(self, left, right, how, on, left_on, right_on, axis, left_index, right_index, sort, suffixes, copy, indicator, validate)\u001b[0m\n\u001b[1;32m    626\u001b[0m         \u001b[0mvalidate\u001b[0m\u001b[0;34m:\u001b[0m \u001b[0mstr\u001b[0m \u001b[0;34m|\u001b[0m \u001b[0;32mNone\u001b[0m \u001b[0;34m=\u001b[0m \u001b[0;32mNone\u001b[0m\u001b[0;34m,\u001b[0m\u001b[0;34m\u001b[0m\u001b[0;34m\u001b[0m\u001b[0m\n\u001b[1;32m    627\u001b[0m     ):\n\u001b[0;32m--> 628\u001b[0;31m         \u001b[0m_left\u001b[0m \u001b[0;34m=\u001b[0m \u001b[0m_validate_operand\u001b[0m\u001b[0;34m(\u001b[0m\u001b[0mleft\u001b[0m\u001b[0;34m)\u001b[0m\u001b[0;34m\u001b[0m\u001b[0;34m\u001b[0m\u001b[0m\n\u001b[0m\u001b[1;32m    629\u001b[0m         \u001b[0m_right\u001b[0m \u001b[0;34m=\u001b[0m \u001b[0m_validate_operand\u001b[0m\u001b[0;34m(\u001b[0m\u001b[0mright\u001b[0m\u001b[0;34m)\u001b[0m\u001b[0;34m\u001b[0m\u001b[0;34m\u001b[0m\u001b[0m\n\u001b[1;32m    630\u001b[0m         \u001b[0mself\u001b[0m\u001b[0;34m.\u001b[0m\u001b[0mleft\u001b[0m \u001b[0;34m=\u001b[0m \u001b[0mself\u001b[0m\u001b[0;34m.\u001b[0m\u001b[0morig_left\u001b[0m \u001b[0;34m=\u001b[0m \u001b[0m_left\u001b[0m\u001b[0;34m\u001b[0m\u001b[0;34m\u001b[0m\u001b[0m\n",
      "\u001b[0;32m/opt/conda/lib/python3.9/site-packages/pandas/core/reshape/merge.py\u001b[0m in \u001b[0;36m_validate_operand\u001b[0;34m(obj)\u001b[0m\n\u001b[1;32m   2270\u001b[0m             \u001b[0;32mreturn\u001b[0m \u001b[0mobj\u001b[0m\u001b[0;34m.\u001b[0m\u001b[0mto_frame\u001b[0m\u001b[0;34m(\u001b[0m\u001b[0;34m)\u001b[0m\u001b[0;34m\u001b[0m\u001b[0;34m\u001b[0m\u001b[0m\n\u001b[1;32m   2271\u001b[0m     \u001b[0;32melse\u001b[0m\u001b[0;34m:\u001b[0m\u001b[0;34m\u001b[0m\u001b[0;34m\u001b[0m\u001b[0m\n\u001b[0;32m-> 2272\u001b[0;31m         raise TypeError(\n\u001b[0m\u001b[1;32m   2273\u001b[0m             \u001b[0;34mf\"Can only merge Series or DataFrame objects, a {type(obj)} was passed\"\u001b[0m\u001b[0;34m\u001b[0m\u001b[0;34m\u001b[0m\u001b[0m\n\u001b[1;32m   2274\u001b[0m         )\n",
      "\u001b[0;31mTypeError\u001b[0m: Can only merge Series or DataFrame objects, a <class 'pyspark.sql.dataframe.DataFrame'> was passed"
     ]
    }
   ],
   "source": [
    "pd.merge(df, df2, on = \"LSOAName\", how = \"inner\")"
   ]
  },
  {
   "cell_type": "code",
   "execution_count": null,
   "id": "8087bced",
   "metadata": {},
   "outputs": [],
   "source": []
  },
  {
   "cell_type": "code",
   "execution_count": null,
   "id": "d4650759",
   "metadata": {},
   "outputs": [],
   "source": []
  },
  {
   "cell_type": "markdown",
   "id": "2e5d03be",
   "metadata": {},
   "source": [
    "9.\tCritically assess and report on the advantages, disadvantages, and limitations of the methods used. "
   ]
  },
  {
   "cell_type": "markdown",
   "id": "6884a697",
   "metadata": {},
   "source": [
    "10.\tYour submission will be a Jupyter Notebook containing both code (typically Python), and explanatory text (in Markdown format) limited to 2500 words (plus references). References from the scientific literature must be used (please follow IEEE format) and your discussion must be your own words. DO NOT CUT AND PASTE FROM THE INTERNET."
   ]
  },
  {
   "cell_type": "markdown",
   "id": "22954f24",
   "metadata": {},
   "source": [
    "#### References"
   ]
  },
  {
   "cell_type": "markdown",
   "id": "619ab682",
   "metadata": {},
   "source": [
    "[1] https://towardsdatascience.com/time-series-decomposition-in-python-8acac385a5b2\n",
    "\n",
    "[2] https://towardsdatascience.com/multi-seasonal-time-series-decomposition-using-mstl-in-python-136630e67530#:~:text=Time%20series%20decomposition%20is%20about,ARIMA%2DSEATS%20%5B3%5D."
   ]
  }
 ],
 "metadata": {
  "kernelspec": {
   "display_name": "Python 3",
   "language": "python",
   "name": "python3"
  },
  "language_info": {
   "codemirror_mode": {
    "name": "ipython",
    "version": 3
   },
   "file_extension": ".py",
   "mimetype": "text/x-python",
   "name": "python",
   "nbconvert_exporter": "python",
   "pygments_lexer": "ipython3",
   "version": "3.9.5"
  }
 },
 "nbformat": 4,
 "nbformat_minor": 5
}
